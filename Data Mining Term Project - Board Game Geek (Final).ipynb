{
 "cells": [
  {
   "cell_type": "markdown",
   "metadata": {},
   "source": [
    "# Data Mining Term Project - Board Game Geek Rating Prediction/Experimentations\n",
    "# Student: Kaite (Kurt) Li\n",
    "# ID: 100 164 5704\n"
   ]
  },
  {
   "cell_type": "markdown",
   "metadata": {},
   "source": [
    "# Intention of my Post\n",
    "## The intention of this post if to illustrate the term project of my Data Mining class. First and foremost, since preproecessing is a huge and necessary part of data mining, this post show step by step on how the preprocessing is done. Also at the end the preprocessing, a breif summary will be provided for the readers to remind what we have accomplished up on till that point. Secondly, a quick data analysis will be provided to see how the data look like after all the preprocessing work, this part gathers good intelligence of the data which we will be working with for the rest of the post. Thirdly, the prediction of the rating based on text comments is awefully similar to our third assignment which we are predicting movie reviews based on text reviews; however, the difference is that the ratings of the board games are continuous numbers from 0 to 10. I am planning on discretizing these ratings so that there are only 11 class labels (0 through 10). After that, I will use sklearn's Multinomial Naive Bayes classifiers to experiment with the data set and gather all the accuracies. My contribution would be implementing ensemble voting, analyze my mechanism, introducing different measurements. Fourthly, I will finalize a ensemble classfier to predict input reviews from outside. Lastly, readers should also read \"Important Note\" which reveals critical information throughout the post if reader wants to try running the notebook himself."
   ]
  },
  {
   "cell_type": "markdown",
   "metadata": {},
   "source": [
    "### Important Note: \n",
    "#### Please be patient when you run this notebook, because even after making this notebook as concise as I can, the running time is still very long as we are dealing with multiple classifiers using ensemble over a 2.7 million row data set. Thank you."
   ]
  },
  {
   "cell_type": "markdown",
   "metadata": {},
   "source": [
    "# Links\n",
    "## 1. AnywherePython Flask Webapp Deployment with Serialized Classfier: \n",
    "http://kaiteli14.pythonanywhere.com\n",
    "   \n",
    "## 2. Github Repo Link (Timestamps): \n",
    "https://github.com/kaiteli14/DataMiningTermProject\n",
    "\n",
    "## 3. Video Demo:\n",
    "https://www.youtube.com/watch?v=z9A6rye8Elw&feature=youtu.be\n",
    "\n",
    "## 4. Kaggle Notebook Link:\n",
    "https://www.kaggle.com/kaiteli14/data-mining-term-project-board-game-geek-final\n"
   ]
  },
  {
   "cell_type": "markdown",
   "metadata": {},
   "source": [
    "\n",
    "\n",
    "# Library Import"
   ]
  },
  {
   "cell_type": "markdown",
   "metadata": {},
   "source": [
    "## For those of you that are new to Jupyter Notebook, the following section is importing all the library modules. I find it more efficient to keep everything in the same place. Even if I need something new later on in the post, I would always go back here to do the import."
   ]
  },
  {
   "cell_type": "code",
   "execution_count": 1,
   "metadata": {
    "_cell_guid": "b1076dfc-b9ad-4769-8c92-a6c4dae69d19",
    "_uuid": "8f2839f25d086af736a60e9eeb907d3b93b6e0e5"
   },
   "outputs": [],
   "source": [
    "# This Python 3 environment comes with many helpful analytics libraries installed\n",
    "# It is defined by the kaggle/python docker image: https://github.com/kaggle/docker-python\n",
    "# For example, here's several helpful packages to load in \n",
    "\n",
    "# !pip install Unidecode\n",
    "\n",
    "import numpy as np # linear algebra\n",
    "import pandas as pd # data processing, CSV file I/O (e.g. pd.read_csv)\n",
    "import string\n",
    "import re\n",
    "import unidecode\n",
    "import nltk\n",
    "# nltk.download('stopwords')\n",
    "from nltk.corpus import stopwords\n",
    "from nltk.tokenize import RegexpTokenizer\n",
    "import matplotlib.pyplot as plt \n",
    "%matplotlib inline\n",
    "from sklearn.model_selection import train_test_split\n",
    "from sklearn.svm import LinearSVC\n",
    "from sklearn.naive_bayes import MultinomialNB as NB\n",
    "from sklearn import feature_extraction, linear_model, model_selection, preprocessing\n",
    "from sklearn.metrics import accuracy_score\n",
    "import math\n",
    "from ipywidgets import widgets\n",
    "from IPython.display import display\n",
    "\n",
    "\n",
    "\n",
    "# Input data files are available in the \"../input/\" directory.\n",
    "# For example, running this (by clicking run or pressing Shift+Enter) will list all files under the input directory\n",
    "\n",
    "import os\n",
    "for dirname, _, filenames in os.walk('/kaggle/input'):\n",
    "    for filename in filenames:\n",
    "        print(os.path.join(dirname, filename))\n",
    "\n",
    "# Any results you write to the current directory are saved as output."
   ]
  },
  {
   "cell_type": "markdown",
   "metadata": {},
   "source": [
    "# Preprocessing Step: Loading data"
   ]
  },
  {
   "cell_type": "markdown",
   "metadata": {},
   "source": [
    "## We only need \"bbg-13-reviews.csv\" file for this project because we are only dealing with rating and comment. Therefore, the rest two .csv files are commented out."
   ]
  },
  {
   "cell_type": "code",
   "execution_count": 2,
   "metadata": {
    "_cell_guid": "79c7e3d0-c299-4dcb-8224-4455121ee9b0",
    "_uuid": "d629ff2d2480ee46fbb7e2d37f6b5fab8052498a"
   },
   "outputs": [],
   "source": [
    "# We are loading all data sets here just in case we need them, but the most important one we are going to be working on is \"review_data\"/\n",
    "# game_df = pd.read_csv(\"boardgamegeek-reviews/2019-05-02.csv\")\n",
    "review_df = pd.read_csv(\"boardgamegeek-reviews/bgg-13m-reviews.csv\")\n",
    "# game_detail_df = pd.read_csv(\"boardgamegeek-reviews/games_detailed_info.csv\")"
   ]
  },
  {
   "cell_type": "markdown",
   "metadata": {},
   "source": [
    "# Preprocessing Step: Drop rows that has no comment"
   ]
  },
  {
   "cell_type": "markdown",
   "metadata": {},
   "source": [
    "## Because we will deal with multiple ratings for our prediciton. If a comment is empty, then there is nothing we can work with and I chose to drop those columns. The other good thing is, dropping the comment will size down the data set and making the run time better."
   ]
  },
  {
   "cell_type": "code",
   "execution_count": 3,
   "metadata": {},
   "outputs": [
    {
     "data": {
      "text/html": [
       "<div>\n",
       "<style scoped>\n",
       "    .dataframe tbody tr th:only-of-type {\n",
       "        vertical-align: middle;\n",
       "    }\n",
       "\n",
       "    .dataframe tbody tr th {\n",
       "        vertical-align: top;\n",
       "    }\n",
       "\n",
       "    .dataframe thead th {\n",
       "        text-align: right;\n",
       "    }\n",
       "</style>\n",
       "<table border=\"1\" class=\"dataframe\">\n",
       "  <thead>\n",
       "    <tr style=\"text-align: right;\">\n",
       "      <th></th>\n",
       "      <th>Unnamed: 0</th>\n",
       "      <th>user</th>\n",
       "      <th>rating</th>\n",
       "      <th>comment</th>\n",
       "      <th>ID</th>\n",
       "      <th>name</th>\n",
       "    </tr>\n",
       "  </thead>\n",
       "  <tbody>\n",
       "    <tr>\n",
       "      <th>0</th>\n",
       "      <td>0</td>\n",
       "      <td>sidehacker</td>\n",
       "      <td>10.0</td>\n",
       "      <td>NaN</td>\n",
       "      <td>13</td>\n",
       "      <td>Catan</td>\n",
       "    </tr>\n",
       "    <tr>\n",
       "      <th>1</th>\n",
       "      <td>1</td>\n",
       "      <td>Varthlokkur</td>\n",
       "      <td>10.0</td>\n",
       "      <td>NaN</td>\n",
       "      <td>13</td>\n",
       "      <td>Catan</td>\n",
       "    </tr>\n",
       "    <tr>\n",
       "      <th>2</th>\n",
       "      <td>2</td>\n",
       "      <td>dougthonus</td>\n",
       "      <td>10.0</td>\n",
       "      <td>Currently, this sits on my list as my favorite...</td>\n",
       "      <td>13</td>\n",
       "      <td>Catan</td>\n",
       "    </tr>\n",
       "    <tr>\n",
       "      <th>3</th>\n",
       "      <td>3</td>\n",
       "      <td>cypar7</td>\n",
       "      <td>10.0</td>\n",
       "      <td>I know it says how many plays, but many, many ...</td>\n",
       "      <td>13</td>\n",
       "      <td>Catan</td>\n",
       "    </tr>\n",
       "    <tr>\n",
       "      <th>4</th>\n",
       "      <td>4</td>\n",
       "      <td>ssmooth</td>\n",
       "      <td>10.0</td>\n",
       "      <td>NaN</td>\n",
       "      <td>13</td>\n",
       "      <td>Catan</td>\n",
       "    </tr>\n",
       "  </tbody>\n",
       "</table>\n",
       "</div>"
      ],
      "text/plain": [
       "   Unnamed: 0         user  rating  \\\n",
       "0           0   sidehacker    10.0   \n",
       "1           1  Varthlokkur    10.0   \n",
       "2           2   dougthonus    10.0   \n",
       "3           3       cypar7    10.0   \n",
       "4           4      ssmooth    10.0   \n",
       "\n",
       "                                             comment  ID   name  \n",
       "0                                                NaN  13  Catan  \n",
       "1                                                NaN  13  Catan  \n",
       "2  Currently, this sits on my list as my favorite...  13  Catan  \n",
       "3  I know it says how many plays, but many, many ...  13  Catan  \n",
       "4                                                NaN  13  Catan  "
      ]
     },
     "execution_count": 3,
     "metadata": {},
     "output_type": "execute_result"
    }
   ],
   "source": [
    "# Let's take a look at how the data look like before the drop.\n",
    "review_df.head()"
   ]
  },
  {
   "cell_type": "code",
   "execution_count": 4,
   "metadata": {},
   "outputs": [
    {
     "data": {
      "text/plain": [
       "(13170073, 6)"
      ]
     },
     "execution_count": 4,
     "metadata": {},
     "output_type": "execute_result"
    }
   ],
   "source": [
    "# Let's look at the shape of the data before the drop.\n",
    "review_df.shape"
   ]
  },
  {
   "cell_type": "code",
   "execution_count": 5,
   "metadata": {},
   "outputs": [],
   "source": [
    "# Let's drop all the rows that has \"NaN\" in the \"comment\".\n",
    "review_df.dropna(subset=[\"comment\"], inplace=True)"
   ]
  },
  {
   "cell_type": "code",
   "execution_count": 6,
   "metadata": {},
   "outputs": [
    {
     "data": {
      "text/html": [
       "<div>\n",
       "<style scoped>\n",
       "    .dataframe tbody tr th:only-of-type {\n",
       "        vertical-align: middle;\n",
       "    }\n",
       "\n",
       "    .dataframe tbody tr th {\n",
       "        vertical-align: top;\n",
       "    }\n",
       "\n",
       "    .dataframe thead th {\n",
       "        text-align: right;\n",
       "    }\n",
       "</style>\n",
       "<table border=\"1\" class=\"dataframe\">\n",
       "  <thead>\n",
       "    <tr style=\"text-align: right;\">\n",
       "      <th></th>\n",
       "      <th>Unnamed: 0</th>\n",
       "      <th>user</th>\n",
       "      <th>rating</th>\n",
       "      <th>comment</th>\n",
       "      <th>ID</th>\n",
       "      <th>name</th>\n",
       "    </tr>\n",
       "  </thead>\n",
       "  <tbody>\n",
       "    <tr>\n",
       "      <th>2</th>\n",
       "      <td>2</td>\n",
       "      <td>dougthonus</td>\n",
       "      <td>10.0</td>\n",
       "      <td>Currently, this sits on my list as my favorite...</td>\n",
       "      <td>13</td>\n",
       "      <td>Catan</td>\n",
       "    </tr>\n",
       "    <tr>\n",
       "      <th>3</th>\n",
       "      <td>3</td>\n",
       "      <td>cypar7</td>\n",
       "      <td>10.0</td>\n",
       "      <td>I know it says how many plays, but many, many ...</td>\n",
       "      <td>13</td>\n",
       "      <td>Catan</td>\n",
       "    </tr>\n",
       "    <tr>\n",
       "      <th>7</th>\n",
       "      <td>7</td>\n",
       "      <td>hreimer</td>\n",
       "      <td>10.0</td>\n",
       "      <td>i will never tire of this game.. Awesome</td>\n",
       "      <td>13</td>\n",
       "      <td>Catan</td>\n",
       "    </tr>\n",
       "    <tr>\n",
       "      <th>11</th>\n",
       "      <td>11</td>\n",
       "      <td>daredevil</td>\n",
       "      <td>10.0</td>\n",
       "      <td>This is probably the best game I ever played. ...</td>\n",
       "      <td>13</td>\n",
       "      <td>Catan</td>\n",
       "    </tr>\n",
       "    <tr>\n",
       "      <th>16</th>\n",
       "      <td>16</td>\n",
       "      <td>hurkle</td>\n",
       "      <td>10.0</td>\n",
       "      <td>Fantastic game. Got me hooked on games all ove...</td>\n",
       "      <td>13</td>\n",
       "      <td>Catan</td>\n",
       "    </tr>\n",
       "  </tbody>\n",
       "</table>\n",
       "</div>"
      ],
      "text/plain": [
       "    Unnamed: 0        user  rating  \\\n",
       "2            2  dougthonus    10.0   \n",
       "3            3      cypar7    10.0   \n",
       "7            7     hreimer    10.0   \n",
       "11          11   daredevil    10.0   \n",
       "16          16      hurkle    10.0   \n",
       "\n",
       "                                              comment  ID   name  \n",
       "2   Currently, this sits on my list as my favorite...  13  Catan  \n",
       "3   I know it says how many plays, but many, many ...  13  Catan  \n",
       "7            i will never tire of this game.. Awesome  13  Catan  \n",
       "11  This is probably the best game I ever played. ...  13  Catan  \n",
       "16  Fantastic game. Got me hooked on games all ove...  13  Catan  "
      ]
     },
     "execution_count": 6,
     "metadata": {},
     "output_type": "execute_result"
    }
   ],
   "source": [
    "# Let's take a look at how the data look like after the drop.\n",
    "review_df.head()"
   ]
  },
  {
   "cell_type": "code",
   "execution_count": 7,
   "metadata": {},
   "outputs": [
    {
     "data": {
      "text/plain": [
       "(2637756, 6)"
      ]
     },
     "execution_count": 7,
     "metadata": {},
     "output_type": "execute_result"
    }
   ],
   "source": [
    "# Let's look at the shape after the drop.\n",
    "review_df.shape"
   ]
  },
  {
   "cell_type": "markdown",
   "metadata": {},
   "source": [
    "# Preprocessing Step: Transform comment into lower case"
   ]
  },
  {
   "cell_type": "markdown",
   "metadata": {},
   "source": [
    "## Lowering all the comments to a uniform case is a very important step because we would NOT want to see \"Word\" and \"word\" be considered as two different features in training."
   ]
  },
  {
   "cell_type": "code",
   "execution_count": 8,
   "metadata": {},
   "outputs": [],
   "source": [
    "review_df[\"comment\"] = review_df[\"comment\"].str.lower()"
   ]
  },
  {
   "cell_type": "markdown",
   "metadata": {},
   "source": [
    "# Preprocessing Step: Remove punctuations"
   ]
  },
  {
   "cell_type": "markdown",
   "metadata": {},
   "source": [
    "## Similar to the idea above, punctuations are not good features that we should keep. They are for the most part meaningless to our training. Hence, we should just drop them all together."
   ]
  },
  {
   "cell_type": "code",
   "execution_count": 9,
   "metadata": {},
   "outputs": [],
   "source": [
    "# Creating a function for punctuation removal, similar to the one in my practice kaggle notebook.\n",
    "def functuation_removal(comment):\n",
    "    return comment.translate(comment.maketrans('','', string.punctuation))\n",
    "\n",
    "review_df[\"comment\"] = review_df[\"comment\"].apply(lambda comment:functuation_removal(comment))"
   ]
  },
  {
   "cell_type": "markdown",
   "metadata": {},
   "source": [
    "# Preprocessing Step: Remove url, html, and acceted characters"
   ]
  },
  {
   "cell_type": "markdown",
   "metadata": {},
   "source": [
    "## All the url, html, and acceted characters are just noise to our training, we should also clear them out here."
   ]
  },
  {
   "cell_type": "code",
   "execution_count": 10,
   "metadata": {},
   "outputs": [],
   "source": [
    "def miscellaneous_removal(comment):\n",
    "    pattern_html = re.compile(r'<.*?>')\n",
    "    pattern_url = re.compile(r'https?://\\S+\\www\\.\\S+')\n",
    "    comment = pattern_html.sub(r'', comment)\n",
    "    comment = pattern_url.sub(r'', comment)\n",
    "    comment = unidecode.unidecode(comment)\n",
    "    return comment\n",
    "\n",
    "review_df[\"comment\"] = review_df[\"comment\"].apply(lambda comment: miscellaneous_removal(comment))"
   ]
  },
  {
   "cell_type": "markdown",
   "metadata": {},
   "source": [
    "# Preprocessing Step: Remove stop words"
   ]
  },
  {
   "cell_type": "markdown",
   "metadata": {},
   "source": [
    "## In the English language, we will have stop words, such as \"to\", \"of\", \"by\", \"for\", which are also pointless to the training, we should remove them from the comment to make the data even cleaner."
   ]
  },
  {
   "cell_type": "code",
   "execution_count": 11,
   "metadata": {},
   "outputs": [],
   "source": [
    "tokenizer = RegexpTokenizer(r'\\w+')\n",
    "stop_words = set(stopwords.words('english'))\n",
    "\n",
    "def stop_words_removal(comment):\n",
    "    return \" \".join([word for word in tokenizer.tokenize(comment) if word not in stop_words])\n",
    "\n",
    "review_df[\"comment\"] = review_df[\"comment\"].apply(stop_words_removal)"
   ]
  },
  {
   "cell_type": "markdown",
   "metadata": {},
   "source": [
    "## Preprocessing Step: Remove Non English Words"
   ]
  },
  {
   "cell_type": "markdown",
   "metadata": {},
   "source": [
    "## I found that there are some spanish, russian comments and because the prediction would be in English therefore I do not want other languages show up in the training."
   ]
  },
  {
   "cell_type": "code",
   "execution_count": 12,
   "metadata": {},
   "outputs": [],
   "source": [
    "# nltk.download()\n",
    "words = set(nltk.corpus.words.words())\n",
    "\n",
    "def remove_non_english_words(comment):\n",
    "    return \" \".join(w for w in nltk.wordpunct_tokenize(comment) if w.lower() in words or not w.isalpha())\n",
    "\n",
    "review_df[\"comment\"] = review_df[\"comment\"].apply(remove_non_english_words)"
   ]
  },
  {
   "cell_type": "markdown",
   "metadata": {},
   "source": [
    "# Preprocessing Step: Rounding all ratings"
   ]
  },
  {
   "cell_type": "markdown",
   "metadata": {},
   "source": [
    "## Since the rating ranges from 0 to 10 and I want to implment Ensemble Voting and Bagging with chosen classfier as Naive Bayes, it is necessary to discretize all the ratings by rounding all of them."
   ]
  },
  {
   "cell_type": "code",
   "execution_count": 13,
   "metadata": {},
   "outputs": [],
   "source": [
    "# This works as discretization.\n",
    "review_df[\"rating\"] = review_df[\"rating\"].round(0).astype(int)"
   ]
  },
  {
   "cell_type": "markdown",
   "metadata": {},
   "source": [
    "# Preprocessing Step: Remove unnecessary columns"
   ]
  },
  {
   "cell_type": "markdown",
   "metadata": {},
   "source": [
    "## Remove all columns other than \"rating\" and \"comment\""
   ]
  },
  {
   "cell_type": "code",
   "execution_count": 14,
   "metadata": {},
   "outputs": [],
   "source": [
    "# Since we are using rating and comment columns to build the prediction model, therefore, we should remove the unnecesarry columns that we do not need.\n",
    "review_df.drop(review_df.columns[0], axis=1, inplace=True) # This removes the original index column"
   ]
  },
  {
   "cell_type": "code",
   "execution_count": 15,
   "metadata": {},
   "outputs": [],
   "source": [
    "review_df.drop(review_df.columns[3], axis=1, inplace=True)"
   ]
  },
  {
   "cell_type": "code",
   "execution_count": 16,
   "metadata": {},
   "outputs": [],
   "source": [
    "review_df.drop(review_df.columns[0], axis=1, inplace=True)"
   ]
  },
  {
   "cell_type": "code",
   "execution_count": 17,
   "metadata": {},
   "outputs": [],
   "source": [
    "review_df.drop(review_df.columns[2], axis=1, inplace=True)"
   ]
  },
  {
   "cell_type": "code",
   "execution_count": 18,
   "metadata": {},
   "outputs": [
    {
     "data": {
      "text/html": [
       "<div>\n",
       "<style scoped>\n",
       "    .dataframe tbody tr th:only-of-type {\n",
       "        vertical-align: middle;\n",
       "    }\n",
       "\n",
       "    .dataframe tbody tr th {\n",
       "        vertical-align: top;\n",
       "    }\n",
       "\n",
       "    .dataframe thead th {\n",
       "        text-align: right;\n",
       "    }\n",
       "</style>\n",
       "<table border=\"1\" class=\"dataframe\">\n",
       "  <thead>\n",
       "    <tr style=\"text-align: right;\">\n",
       "      <th></th>\n",
       "      <th>rating</th>\n",
       "      <th>comment</th>\n",
       "    </tr>\n",
       "  </thead>\n",
       "  <tbody>\n",
       "    <tr>\n",
       "      <th>2</th>\n",
       "      <td>10</td>\n",
       "      <td>currently list favorite game</td>\n",
       "    </tr>\n",
       "    <tr>\n",
       "      <th>3</th>\n",
       "      <td>10</td>\n",
       "      <td>know many many many uncounted version best</td>\n",
       "    </tr>\n",
       "    <tr>\n",
       "      <th>7</th>\n",
       "      <td>10</td>\n",
       "      <td>never tire game awesome</td>\n",
       "    </tr>\n",
       "    <tr>\n",
       "      <th>11</th>\n",
       "      <td>10</td>\n",
       "      <td>probably best game ever thinking negotiation</td>\n",
       "    </tr>\n",
       "    <tr>\n",
       "      <th>16</th>\n",
       "      <td>10</td>\n",
       "      <td>fantastic game got hooked</td>\n",
       "    </tr>\n",
       "  </tbody>\n",
       "</table>\n",
       "</div>"
      ],
      "text/plain": [
       "    rating                                       comment\n",
       "2       10                  currently list favorite game\n",
       "3       10    know many many many uncounted version best\n",
       "7       10                       never tire game awesome\n",
       "11      10  probably best game ever thinking negotiation\n",
       "16      10                     fantastic game got hooked"
      ]
     },
     "execution_count": 18,
     "metadata": {},
     "output_type": "execute_result"
    }
   ],
   "source": [
    "review_df.head()"
   ]
  },
  {
   "cell_type": "markdown",
   "metadata": {},
   "source": [
    "# Preprocessing Step: Shuffling rows of the data set"
   ]
  },
  {
   "cell_type": "markdown",
   "metadata": {},
   "source": [
    "## We are going to split data into train set and test set and because of that the data should be shuffled to make the distribution more even."
   ]
  },
  {
   "cell_type": "code",
   "execution_count": 19,
   "metadata": {},
   "outputs": [],
   "source": [
    "review_df = review_df.sample(frac=1).reset_index(drop=True)"
   ]
  },
  {
   "cell_type": "markdown",
   "metadata": {},
   "source": [
    "# Preprocessing Step: Splitting data set into Train and Test"
   ]
  },
  {
   "cell_type": "markdown",
   "metadata": {},
   "source": [
    "## Now we do the splitting."
   ]
  },
  {
   "cell_type": "code",
   "execution_count": 20,
   "metadata": {},
   "outputs": [],
   "source": [
    "# Transforming DataFrame to Numpy\n",
    "review_np = review_df.to_numpy()"
   ]
  },
  {
   "cell_type": "markdown",
   "metadata": {},
   "source": [
    "### Imporant Note: Because the size of the data is to large, the Kaggle Notebook didn't finish for more than an hour; therefore I have to comment out the original \"x\" and \"y\" and take a subset of them. Please be aware of this if you want to run it yourself."
   ]
  },
  {
   "cell_type": "code",
   "execution_count": 21,
   "metadata": {},
   "outputs": [],
   "source": [
    "# \"x\" is the comment column of the data and \"y\" is the rating column of the data\n",
    "x = review_np[:, 1:]\n",
    "y = review_np[:, :1]"
   ]
  },
  {
   "cell_type": "code",
   "execution_count": 22,
   "metadata": {},
   "outputs": [],
   "source": [
    "# Now, let us use skilearn function call to split the data into 80% training and 20% testing\n",
    "x_train, x_test, y_train, y_test = train_test_split(x, y, test_size=0.2, random_state=0)"
   ]
  },
  {
   "cell_type": "code",
   "execution_count": 23,
   "metadata": {},
   "outputs": [
    {
     "name": "stdout",
     "output_type": "stream",
     "text": [
      "-------------------------------------------\n",
      "The shape of the x_train:  (2110204, 1)\n",
      "The shape of the y_train:  (2110204, 1)\n",
      "-------------------------------------------\n",
      "The shape of the x_test:  (527552, 1)\n",
      "The shape of the y_test:  (527552, 1)\n",
      "-------------------------------------------\n"
     ]
    }
   ],
   "source": [
    "# Let's look the shape of the data for \n",
    "print(\"-------------------------------------------\")\n",
    "print(\"The shape of the x_train: \", x_train.shape)\n",
    "print(\"The shape of the y_train: \",y_train.shape)\n",
    "print(\"-------------------------------------------\")\n",
    "print(\"The shape of the x_test: \", x_test.shape)\n",
    "print(\"The shape of the y_test: \",y_test.shape)\n",
    "print(\"-------------------------------------------\")"
   ]
  },
  {
   "cell_type": "markdown",
   "metadata": {},
   "source": [
    "### The following is partition of roughly 5% or first 100,000 rows of data to fit our first Naive Bay Classifier."
   ]
  },
  {
   "cell_type": "code",
   "execution_count": 24,
   "metadata": {},
   "outputs": [],
   "source": [
    "# Let us try 30% of the original data size and add more later if it is needed. \n",
    "# Original shape of x_train, y_train is (2110204, 1) and original shape of x_test, y_test is (527552, 1)\n",
    "\n",
    "x_train_0, y_train_0 = x_train[:100000, :], y_train[:100000, :]\n",
    "x_test, y_test = x_test[:150000, :], y_test[:150000, :]"
   ]
  },
  {
   "cell_type": "markdown",
   "metadata": {},
   "source": [
    "### The following are another two partition are also roughly 5% of the total data size."
   ]
  },
  {
   "cell_type": "code",
   "execution_count": 25,
   "metadata": {},
   "outputs": [],
   "source": [
    "x_train_1, y_train_1 = x_train[100000:200000, :], y_train[100000:200000, :]\n",
    "x_train_2, y_train_2 = x_train[200000:300000, :], y_train[200000:300000, :]"
   ]
  },
  {
   "cell_type": "code",
   "execution_count": 26,
   "metadata": {},
   "outputs": [
    {
     "name": "stdout",
     "output_type": "stream",
     "text": [
      "-------------------------------------------\n",
      "The shape of the x_train:  (2110204, 1)\n",
      "The shape of the y_train:  (2110204, 1)\n",
      "-------------------------------------------\n",
      "The shape of the x_test:  (150000, 1)\n",
      "The shape of the y_test:  (150000, 1)\n",
      "-------------------------------------------\n"
     ]
    }
   ],
   "source": [
    "# Let's look the shape of the data for \n",
    "print(\"-------------------------------------------\")\n",
    "print(\"The shape of the x_train: \", x_train.shape)\n",
    "print(\"The shape of the y_train: \",y_train.shape)\n",
    "print(\"-------------------------------------------\")\n",
    "print(\"The shape of the x_test: \", x_test.shape)\n",
    "print(\"The shape of the y_test: \",y_test.shape)\n",
    "print(\"-------------------------------------------\")"
   ]
  },
  {
   "cell_type": "code",
   "execution_count": 27,
   "metadata": {},
   "outputs": [],
   "source": [
    "x_train_0, x_test, y_train_0, y_test = pd.DataFrame(data=x_train_0, columns=[\"comment\"]), pd.DataFrame(data=x_test, columns=[\"comment\"]),\\\n",
    "pd.DataFrame(data=y_train_0, columns=[\"rating\"]), pd.DataFrame(data=y_test, columns=[\"rating\"])"
   ]
  },
  {
   "cell_type": "code",
   "execution_count": 28,
   "metadata": {},
   "outputs": [],
   "source": [
    "x_train_1, y_train_1 = pd.DataFrame(data=x_train_1, columns=[\"comment\"]), pd.DataFrame(data=y_train_1, columns=[\"rating\"])"
   ]
  },
  {
   "cell_type": "code",
   "execution_count": 29,
   "metadata": {},
   "outputs": [],
   "source": [
    "x_train_2, y_train_2 = pd.DataFrame(data=x_train_2, columns=[\"comment\"]), pd.DataFrame(data=y_train_2, columns=[\"rating\"])"
   ]
  },
  {
   "cell_type": "markdown",
   "metadata": {},
   "source": [
    "### Breif Summary at this Point\n",
    "Understanding a data scientist's job is more than 60% of data preprocessing and also due to the fact that this data set is quite sizable, I have done the following preprocessing steps up on till this point:\n",
    "\n",
    "1. Remove rows that have no comment, the reason for this is because if the comment is blank, there is nothing we can work with as far as building a predictor is concerned; hence, a removal would be reasonable.\n",
    "2. Make all comment lower case because this way we won't classify same word into different categories.\n",
    "3. Punctuations have been removed.\n",
    "4. Urls, htmls, and accented characters are also removed to make the data even cleaner.\n",
    "5. Remove all the English stop words.\n",
    "6. Round all rating from 1 to 10, this is a better way to fit these rating to classfiers while maintain the correct meaning.\n",
    "7. Remove unnecessary columns.\n",
    "8. Shuffling all the rows of our data to make it even more natural before analysis and classification.\n",
    "9. Splitting data into 80% for traning and 20% for testing.\n"
   ]
  },
  {
   "cell_type": "markdown",
   "metadata": {},
   "source": [
    "# Data Analysis: View the data after the preprocessing"
   ]
  },
  {
   "cell_type": "code",
   "execution_count": 30,
   "metadata": {},
   "outputs": [
    {
     "data": {
      "text/html": [
       "<div>\n",
       "<style scoped>\n",
       "    .dataframe tbody tr th:only-of-type {\n",
       "        vertical-align: middle;\n",
       "    }\n",
       "\n",
       "    .dataframe tbody tr th {\n",
       "        vertical-align: top;\n",
       "    }\n",
       "\n",
       "    .dataframe thead th {\n",
       "        text-align: right;\n",
       "    }\n",
       "</style>\n",
       "<table border=\"1\" class=\"dataframe\">\n",
       "  <thead>\n",
       "    <tr style=\"text-align: right;\">\n",
       "      <th></th>\n",
       "      <th>rating</th>\n",
       "      <th>comment</th>\n",
       "    </tr>\n",
       "  </thead>\n",
       "  <tbody>\n",
       "    <tr>\n",
       "      <th>0</th>\n",
       "      <td>6</td>\n",
       "      <td>one get wife play also added bonus beach witho...</td>\n",
       "    </tr>\n",
       "    <tr>\n",
       "      <th>1</th>\n",
       "      <td>8</td>\n",
       "      <td>30</td>\n",
       "    </tr>\n",
       "    <tr>\n",
       "      <th>2</th>\n",
       "      <td>7</td>\n",
       "      <td>another great two player game theme one partic...</td>\n",
       "    </tr>\n",
       "    <tr>\n",
       "      <th>3</th>\n",
       "      <td>5</td>\n",
       "      <td>hoot party game</td>\n",
       "    </tr>\n",
       "    <tr>\n",
       "      <th>4</th>\n",
       "      <td>7</td>\n",
       "      <td>dont judge book cover never really interested ...</td>\n",
       "    </tr>\n",
       "    <tr>\n",
       "      <th>5</th>\n",
       "      <td>8</td>\n",
       "      <td>came summer 2012 description said seller unsur...</td>\n",
       "    </tr>\n",
       "    <tr>\n",
       "      <th>6</th>\n",
       "      <td>10</td>\n",
       "      <td>pod shim v duel nye 7 na v u na po poter na 25...</td>\n",
       "    </tr>\n",
       "    <tr>\n",
       "      <th>7</th>\n",
       "      <td>9</td>\n",
       "      <td>picked convention wasnt enjoy blast deck build...</td>\n",
       "    </tr>\n",
       "    <tr>\n",
       "      <th>8</th>\n",
       "      <td>6</td>\n",
       "      <td>game good little diversity like game move dont...</td>\n",
       "    </tr>\n",
       "    <tr>\n",
       "      <th>9</th>\n",
       "      <td>10</td>\n",
       "      <td>4 base game</td>\n",
       "    </tr>\n",
       "    <tr>\n",
       "      <th>10</th>\n",
       "      <td>8</td>\n",
       "      <td>impressive auction game determined try bought ...</td>\n",
       "    </tr>\n",
       "    <tr>\n",
       "      <th>11</th>\n",
       "      <td>8</td>\n",
       "      <td>quite much game imagine take lots 2</td>\n",
       "    </tr>\n",
       "    <tr>\n",
       "      <th>12</th>\n",
       "      <td>5</td>\n",
       "      <td>tower building game 54 wooden block 3 times lo...</td>\n",
       "    </tr>\n",
       "    <tr>\n",
       "      <th>13</th>\n",
       "      <td>8</td>\n",
       "      <td>great great card building game wife really rea...</td>\n",
       "    </tr>\n",
       "    <tr>\n",
       "      <th>14</th>\n",
       "      <td>8</td>\n",
       "      <td>great game rewarding strategic much tactical o...</td>\n",
       "    </tr>\n",
       "    <tr>\n",
       "      <th>15</th>\n",
       "      <td>8</td>\n",
       "      <td>game fantastic however could never justify 4 p...</td>\n",
       "    </tr>\n",
       "    <tr>\n",
       "      <th>16</th>\n",
       "      <td>7</td>\n",
       "      <td>received gift 2017</td>\n",
       "    </tr>\n",
       "    <tr>\n",
       "      <th>17</th>\n",
       "      <td>7</td>\n",
       "      <td>dexterity game card draw challenge turn involv...</td>\n",
       "    </tr>\n",
       "    <tr>\n",
       "      <th>18</th>\n",
       "      <td>5</td>\n",
       "      <td>hk700 modern naval modern naval campaign game ...</td>\n",
       "    </tr>\n",
       "    <tr>\n",
       "      <th>19</th>\n",
       "      <td>7</td>\n",
       "      <td></td>\n",
       "    </tr>\n",
       "  </tbody>\n",
       "</table>\n",
       "</div>"
      ],
      "text/plain": [
       "    rating                                            comment\n",
       "0        6  one get wife play also added bonus beach witho...\n",
       "1        8                                                 30\n",
       "2        7  another great two player game theme one partic...\n",
       "3        5                                    hoot party game\n",
       "4        7  dont judge book cover never really interested ...\n",
       "5        8  came summer 2012 description said seller unsur...\n",
       "6       10  pod shim v duel nye 7 na v u na po poter na 25...\n",
       "7        9  picked convention wasnt enjoy blast deck build...\n",
       "8        6  game good little diversity like game move dont...\n",
       "9       10                                        4 base game\n",
       "10       8  impressive auction game determined try bought ...\n",
       "11       8                quite much game imagine take lots 2\n",
       "12       5  tower building game 54 wooden block 3 times lo...\n",
       "13       8  great great card building game wife really rea...\n",
       "14       8  great game rewarding strategic much tactical o...\n",
       "15       8  game fantastic however could never justify 4 p...\n",
       "16       7                                 received gift 2017\n",
       "17       7  dexterity game card draw challenge turn involv...\n",
       "18       5  hk700 modern naval modern naval campaign game ...\n",
       "19       7                                                   "
      ]
     },
     "execution_count": 30,
     "metadata": {},
     "output_type": "execute_result"
    }
   ],
   "source": [
    "# Let us look at the head of our data set now.\n",
    "review_df.head(20)"
   ]
  },
  {
   "cell_type": "code",
   "execution_count": 31,
   "metadata": {},
   "outputs": [
    {
     "name": "stdout",
     "output_type": "stream",
     "text": [
      "(2637756, 2)\n"
     ]
    }
   ],
   "source": [
    "# Let us look at the shape of the data at this point.\n",
    "print(review_df.shape)"
   ]
  },
  {
   "cell_type": "markdown",
   "metadata": {},
   "source": [
    "# Data Analysis: Rating counts after decretization (0 through 10)"
   ]
  },
  {
   "cell_type": "code",
   "execution_count": 32,
   "metadata": {},
   "outputs": [
    {
     "data": {
      "text/html": [
       "<div>\n",
       "<style scoped>\n",
       "    .dataframe tbody tr th:only-of-type {\n",
       "        vertical-align: middle;\n",
       "    }\n",
       "\n",
       "    .dataframe tbody tr th {\n",
       "        vertical-align: top;\n",
       "    }\n",
       "\n",
       "    .dataframe thead th {\n",
       "        text-align: right;\n",
       "    }\n",
       "</style>\n",
       "<table border=\"1\" class=\"dataframe\">\n",
       "  <thead>\n",
       "    <tr style=\"text-align: right;\">\n",
       "      <th></th>\n",
       "      <th>comment</th>\n",
       "    </tr>\n",
       "    <tr>\n",
       "      <th>rating</th>\n",
       "      <th></th>\n",
       "    </tr>\n",
       "  </thead>\n",
       "  <tbody>\n",
       "    <tr>\n",
       "      <th>0</th>\n",
       "      <td>11</td>\n",
       "    </tr>\n",
       "    <tr>\n",
       "      <th>1</th>\n",
       "      <td>20086</td>\n",
       "    </tr>\n",
       "    <tr>\n",
       "      <th>2</th>\n",
       "      <td>40766</td>\n",
       "    </tr>\n",
       "    <tr>\n",
       "      <th>3</th>\n",
       "      <td>70974</td>\n",
       "    </tr>\n",
       "    <tr>\n",
       "      <th>4</th>\n",
       "      <td>136565</td>\n",
       "    </tr>\n",
       "    <tr>\n",
       "      <th>5</th>\n",
       "      <td>217766</td>\n",
       "    </tr>\n",
       "    <tr>\n",
       "      <th>6</th>\n",
       "      <td>526481</td>\n",
       "    </tr>\n",
       "    <tr>\n",
       "      <th>7</th>\n",
       "      <td>574586</td>\n",
       "    </tr>\n",
       "    <tr>\n",
       "      <th>8</th>\n",
       "      <td>657581</td>\n",
       "    </tr>\n",
       "    <tr>\n",
       "      <th>9</th>\n",
       "      <td>239410</td>\n",
       "    </tr>\n",
       "    <tr>\n",
       "      <th>10</th>\n",
       "      <td>153530</td>\n",
       "    </tr>\n",
       "  </tbody>\n",
       "</table>\n",
       "</div>"
      ],
      "text/plain": [
       "        comment\n",
       "rating         \n",
       "0            11\n",
       "1         20086\n",
       "2         40766\n",
       "3         70974\n",
       "4        136565\n",
       "5        217766\n",
       "6        526481\n",
       "7        574586\n",
       "8        657581\n",
       "9        239410\n",
       "10       153530"
      ]
     },
     "execution_count": 32,
     "metadata": {},
     "output_type": "execute_result"
    }
   ],
   "source": [
    "# The following is a rating count from 0 to 10 after making everything discrete.\n",
    "review_df.groupby([\"rating\"]).count()"
   ]
  },
  {
   "cell_type": "markdown",
   "metadata": {},
   "source": [
    "# Data Analysis: Rating distribution visualized through histogram"
   ]
  },
  {
   "cell_type": "code",
   "execution_count": 33,
   "metadata": {},
   "outputs": [
    {
     "data": {
      "text/plain": [
       "Text(0, 0.5, 'Counts')"
      ]
     },
     "execution_count": 33,
     "metadata": {},
     "output_type": "execute_result"
    },
    {
     "data": {
      "image/png": "[encoded data removed]",
      "text/plain": [
       "<Figure size 432x288 with 1 Axes>"
      ]
     },
     "metadata": {
      "needs_background": "light"
     },
     "output_type": "display_data"
    }
   ],
   "source": [
    "# Histogram for the distribtuion of the rating across 1 to 10.\n",
    "plt = review_df['rating'].plot.hist()\n",
    "plt.set_xlabel(\"Rating from 0 to 10\")\n",
    "plt.set_ylabel(\"Counts\")"
   ]
  },
  {
   "cell_type": "markdown",
   "metadata": {},
   "source": [
    "# Models - Vectorization"
   ]
  },
  {
   "cell_type": "code",
   "execution_count": 34,
   "metadata": {},
   "outputs": [],
   "source": [
    "vectorizer = feature_extraction.text.CountVectorizer()\n",
    "train_vector = vectorizer.fit_transform(x_train_0[\"comment\"])\n",
    "test_vector = vectorizer.transform(x_test[\"comment\"])"
   ]
  },
  {
   "cell_type": "markdown",
   "metadata": {},
   "source": [
    "# Models - Naive Bayes Classifiers\n",
    "### The purpose of this section is to analyze the accuracies of sklearn Multinomial Naive Bayes classifier on our data in numerous ways. The reason I decided to use Naive Bayes classifiers instead of any other classifiers is that rating prediction based on text comment reviews are extremely similar to classification of positive/negative comments based on text comments (I have made my own Naive Bayes model in Assignment 3 which you can see that on my homepage). Since I have preprocessed my data into discrete format (0-10), we can think about the prediction as classification of the data into 11 classes intead of just 2. What I want to achieve and contribute after this section is to use ensemble method to improve accuracy which I learned from this course. I think it is good to try applying in class theory into practice. Furthermore, the entire data has been partitioned into 3 sectors of 33% each for the classifiers. The reason the proportion is decided this way is because this porportion will have accuracy around 31.5% which is very close to the accuracy of 32.6% when we use the entire 2.7 million rows of data. If we cut the data into even smaller pieces,then the accuracy will significantly drops. The whole point is to increase accuracy and we have to very careful when it comes to splitting data for ensemble method."
   ]
  },
  {
   "cell_type": "markdown",
   "metadata": {},
   "source": [
    "## First Naive Bayes Classfier Analysis"
   ]
  },
  {
   "cell_type": "code",
   "execution_count": 35,
   "metadata": {},
   "outputs": [],
   "source": [
    "# We are using MultinomialNB here to check accuracy.\n",
    "Naive_Bayes_Multinomial = NB()\n",
    "target_train_vector = np.asarray(y_train_0[\"rating\"], dtype=\"|S6\")\n",
    "Naive_Bayes_Multinomial.fit(train_vector, target_train_vector)\n",
    "pred = Naive_Bayes_Multinomial.predict(test_vector)"
   ]
  },
  {
   "cell_type": "code",
   "execution_count": 36,
   "metadata": {},
   "outputs": [
    {
     "name": "stdout",
     "output_type": "stream",
     "text": [
      "The accuracy for the first Naive Bayes classifier trained over the FIRST 10% of the data is  29.77 %\n"
     ]
    }
   ],
   "source": [
    "# If we use the whole 2.7 million rows of data, then the accuracy result is around 30%; however if we use 30% of the whole data, we can still\n",
    "# achieve an accuraccy of 30% which is not too shaby at all. This is a good thing about Naive Byes With this, we can shorten the run time of all the experiments and also the restart\n",
    "# needs during the consturction of this notebook by substantial amount.\n",
    "target_test_vector = np.asarray(y_test[\"rating\"],dtype=\"|S6\")\n",
    "acc = accuracy_score(target_test_vector,pred)\n",
    "print(\"The accuracy for the first Naive Bayes classifier trained over the FIRST 10% of the data is \",\"{:.2f}\".format(acc * 100), \"%\")"
   ]
  },
  {
   "cell_type": "markdown",
   "metadata": {},
   "source": [
    "## Second Naive Bayes Classfier Analysis"
   ]
  },
  {
   "cell_type": "code",
   "execution_count": 37,
   "metadata": {},
   "outputs": [],
   "source": [
    "vectorizer_1 = feature_extraction.text.CountVectorizer()\n",
    "train_vector_1 = vectorizer_1.fit_transform(x_train_1[\"comment\"])\n",
    "test_vector_1 = vectorizer_1.transform(x_test[\"comment\"])"
   ]
  },
  {
   "cell_type": "code",
   "execution_count": 38,
   "metadata": {},
   "outputs": [],
   "source": [
    "Naive_Bayes_Multinomial_1 = NB()\n",
    "target_train_vector_1 = np.asarray(y_train_1[\"rating\"], dtype=\"|S6\")\n",
    "Naive_Bayes_Multinomial_1.fit(train_vector_1, target_train_vector_1)\n",
    "pred_1 = Naive_Bayes_Multinomial_1.predict(test_vector_1)"
   ]
  },
  {
   "cell_type": "code",
   "execution_count": 39,
   "metadata": {},
   "outputs": [
    {
     "name": "stdout",
     "output_type": "stream",
     "text": [
      "The accuracy for the first Naive Bayes classifier trained over the SECOND 10% of the data is  29.65 %\n"
     ]
    }
   ],
   "source": [
    "target_test_vector_1 = np.asarray(y_test[\"rating\"],dtype=\"|S6\")\n",
    "acc_1 = accuracy_score(target_test_vector_1,pred_1)\n",
    "print(\"The accuracy for the first Naive Bayes classifier trained over the SECOND 10% of the data is \",\"{:.2f}\".format(acc_1 * 100), \"%\")"
   ]
  },
  {
   "cell_type": "markdown",
   "metadata": {},
   "source": [
    "## Third Naive Bayes Classfier Analysis"
   ]
  },
  {
   "cell_type": "code",
   "execution_count": 40,
   "metadata": {},
   "outputs": [],
   "source": [
    "vectorizer_2 = feature_extraction.text.CountVectorizer()\n",
    "train_vector_2 = vectorizer_2.fit_transform(x_train_2[\"comment\"])\n",
    "test_vector_2 = vectorizer_2.transform(x_test[\"comment\"])"
   ]
  },
  {
   "cell_type": "code",
   "execution_count": 41,
   "metadata": {},
   "outputs": [],
   "source": [
    "Naive_Bayes_Multinomial_2 = NB()\n",
    "target_train_vector_2 = np.asarray(y_train_2[\"rating\"], dtype=\"|S6\")\n",
    "Naive_Bayes_Multinomial_2.fit(train_vector_2, target_train_vector_2)\n",
    "pred_2 = Naive_Bayes_Multinomial_2.predict(test_vector_2)"
   ]
  },
  {
   "cell_type": "code",
   "execution_count": 42,
   "metadata": {},
   "outputs": [
    {
     "name": "stdout",
     "output_type": "stream",
     "text": [
      "The accuracy for the first Naive Bayes classifier trained over the LAST 10% of the data is  29.70 %\n"
     ]
    }
   ],
   "source": [
    "target_test_vector_2 = np.asarray(y_test[\"rating\"],dtype=\"|S6\")\n",
    "acc_2 = accuracy_score(target_test_vector_2,pred_2)\n",
    "print(\"The accuracy for the first Naive Bayes classifier trained over the LAST 10% of the data is \",\"{:.2f}\".format(acc_2 * 100), \"%\")"
   ]
  },
  {
   "cell_type": "markdown",
   "metadata": {},
   "source": [
    "# Contribution - Building my own Ensemble Voting to Test"
   ]
  },
  {
   "cell_type": "markdown",
   "metadata": {},
   "source": [
    "### Firstly, let's look at all the rows that our 3 classifiers have different prediciton and also the correct prediction from our y_test. The reason for this is because if all 3 classfiers have the same predictions, it does not matter if the prediction is right or wrong that any ensemble voting on 3 identical predictions will still be the same."
   ]
  },
  {
   "cell_type": "code",
   "execution_count": 43,
   "metadata": {},
   "outputs": [
    {
     "name": "stdout",
     "output_type": "stream",
     "text": [
      "row  0 , classfier ONE prediction:  7 , classfier TWO prediction:  8 , classfier THREE prediction:  7 , correct class is:  8\n",
      "row  2 , classfier ONE prediction:  7 , classfier TWO prediction:  1 , classfier THREE prediction:  8 , correct class is:  6\n",
      "row  3 , classfier ONE prediction:  7 , classfier TWO prediction:  8 , classfier THREE prediction:  7 , correct class is:  8\n",
      "row  4 , classfier ONE prediction:  1 , classfier TWO prediction:  8 , classfier THREE prediction:  8 , correct class is:  7\n",
      "row  5 , classfier ONE prediction:  8 , classfier TWO prediction:  8 , classfier THREE prediction:  7 , correct class is:  8\n",
      "row  6 , classfier ONE prediction:  8 , classfier TWO prediction:  7 , classfier THREE prediction:  8 , correct class is:  9\n",
      "row  7 , classfier ONE prediction:  7 , classfier TWO prediction:  9 , classfier THREE prediction:  9 , correct class is:  9\n"
     ]
    }
   ],
   "source": [
    "for i in range(10):\n",
    "    if pred[i] == pred_1[i] and pred_1[i] == pred_2[i]:\n",
    "        continue\n",
    "    else:\n",
    "        print(\"row \", i, \", classfier ONE prediction: \",str(pred[i])[2], \", classfier TWO prediction: \",str(pred_1[i])[2], \", classfier THREE prediction: \",str(pred_2[i])[2],\\\n",
    "              \", correct class is: \", y_test.iloc[i][0])"
   ]
  },
  {
   "cell_type": "markdown",
   "metadata": {},
   "source": [
    "### Using ensemble voting over the 3 classifier predictions we have."
   ]
  },
  {
   "cell_type": "markdown",
   "metadata": {},
   "source": [
    "### The following section is extracting all the predicitions from all of the 3 sklearn Multinomial Naive Bayes classifiers and average the result to correct error. From a statistical stand point, it is possible some correct answers will be wrongly corrected; however, the goal of the end result is to improve the exisitng classifier accuracy by implementing voting mechanism and bagging data when building the model. Also, by voting, we also close the distance between the prediction rating and the true rating even if we are not right on the rating. "
   ]
  },
  {
   "cell_type": "code",
   "execution_count": 44,
   "metadata": {},
   "outputs": [],
   "source": [
    "ensemble_pred = []\n",
    "for i in range(pred.shape[0]):\n",
    "    if pred[i] == pred_1[i] and pred_1[i] == pred_2[i]:\n",
    "        ensemble_pred.append(int(str(pred[i])[2]))\n",
    "    else:\n",
    "        temp_sum = int(str(pred[i])[2]) + int(str(pred_1[i])[2]) + int(str(pred_2[i])[2])\n",
    "        temp_pred = round(temp_sum/3)\n",
    "        ensemble_pred.append(temp_pred)"
   ]
  },
  {
   "cell_type": "code",
   "execution_count": 45,
   "metadata": {},
   "outputs": [
    {
     "name": "stdout",
     "output_type": "stream",
     "text": [
      "False\n"
     ]
    }
   ],
   "source": [
    "# Brief debugg sector to make sure boolean checking goes through.\n",
    "print(ensemble_pred[1] == y_test.iloc[1][0])"
   ]
  },
  {
   "cell_type": "code",
   "execution_count": 46,
   "metadata": {},
   "outputs": [],
   "source": [
    "total = len(ensemble_pred)\n",
    "count = 0\n",
    "\n",
    "for i in range(total):\n",
    "    if ensemble_pred[i] == y_test.iloc[i][0]:\n",
    "        count += 1"
   ]
  },
  {
   "cell_type": "code",
   "execution_count": 47,
   "metadata": {},
   "outputs": [
    {
     "name": "stdout",
     "output_type": "stream",
     "text": [
      "0.29355333333333333\n"
     ]
    }
   ],
   "source": [
    "new_accuracy = count / total\n",
    "print(new_accuracy)"
   ]
  },
  {
   "cell_type": "code",
   "execution_count": 48,
   "metadata": {},
   "outputs": [
    {
     "data": {
      "image/png": "[encoded data removed]",
      "text/plain": [
       "<Figure size 432x288 with 1 Axes>"
      ]
     },
     "metadata": {
      "needs_background": "light"
     },
     "output_type": "display_data"
    }
   ],
   "source": [
    "import matplotlib.pyplot as plt\n",
    "x = [1, 2, 3, 4]\n",
    "y = [acc, acc_1, acc_2, new_accuracy]\n",
    "labels = [\"NB1\", \"NB2\", \"NB3\", \"My Ensemble\"] \n",
    "plt.bar(x, y, tick_label = labels, width = 0.7, color = [\"blue\"]) \n",
    "plt.xlabel(\"Name of the classfiers\") \n",
    "plt.ylabel(\"Accuracy\") \n",
    "plt.title(\"Accuracy Chart without Considering Distance\") \n",
    "plt.show() "
   ]
  },
  {
   "cell_type": "markdown",
   "metadata": {},
   "source": [
    "### Imporant Note: \n",
    "#### because each time you run the model, it shuffles the entire data set before splitting, you sometimes see ensemble voting method being the slightly higher or slightly lesser than the sklearn Multinomial Naive Bayes classfiers, however, this matters not, because next section we will talk about average distance to the true rating which emsemble voting method almost always closes the gap statistically speaking, it would be an ultra rare conincidence that my method here does NOT close the gap."
   ]
  },
  {
   "cell_type": "markdown",
   "metadata": {},
   "source": [
    "## As we can see, our implementation in the above section works as expected. The point is that even if the accuracies is extremely similar after doing ensemble voting, it is still better to choose ensemble voting because we have not taken distance into the consideration."
   ]
  },
  {
   "cell_type": "markdown",
   "metadata": {},
   "source": [
    "# Contribution - Analysis and Experiment and Undersanding of Distance.\n",
    "## As we all know by now, the accuracy is constructed in such a way that if the true rating is 9 and even if we predicted a 8 or 10, it is considered wrong. Now, let's assume we have two classifiers, if both of them have the same accuracy, but one's prediction is averagely much more closer to the true rating, do we acknowledge that this predictor to be better? Of course, we do. The purpose here is to realize that accuracy as defined here is not the only measurement of which classifier is better, we should deploy more metrics to analyze the ensemble method and this section devotes to that."
   ]
  },
  {
   "cell_type": "markdown",
   "metadata": {},
   "source": [
    "## Here is the average distance of classifier 1 prediction rating to the true rating"
   ]
  },
  {
   "cell_type": "code",
   "execution_count": 49,
   "metadata": {},
   "outputs": [],
   "source": [
    "total = y_test.shape[0]\n",
    "total_distance = 0\n",
    "for i in range(total):\n",
    "    tmp_pred_rating = int(str(pred[i])[2])\n",
    "    tmp_true_rating = y_test.iloc[i][0]\n",
    "    if tmp_pred_rating != tmp_true_rating:\n",
    "        total_distance += abs(tmp_pred_rating - tmp_true_rating)\n",
    "    else:\n",
    "        continue\n",
    "\n",
    "average_distance_0 = total_distance / total"
   ]
  },
  {
   "cell_type": "code",
   "execution_count": 50,
   "metadata": {},
   "outputs": [
    {
     "name": "stdout",
     "output_type": "stream",
     "text": [
      "Average distance of the FIRST classfier prediction rating to the true rating:  1.3303466666666666\n"
     ]
    }
   ],
   "source": [
    "print(\"Average distance of the FIRST classfier prediction rating to the true rating: \", average_distance_0)"
   ]
  },
  {
   "cell_type": "markdown",
   "metadata": {},
   "source": [
    "## Here is the average distance of classifier 2 prediction rating to the true rating"
   ]
  },
  {
   "cell_type": "code",
   "execution_count": 51,
   "metadata": {},
   "outputs": [],
   "source": [
    "total = y_test.shape[0]\n",
    "total_distance = 0\n",
    "for i in range(total):\n",
    "    tmp_pred_rating = int(str(pred_1[i])[2])\n",
    "    tmp_true_rating = y_test.iloc[i][0]\n",
    "    if tmp_pred_rating != tmp_true_rating:\n",
    "        total_distance += abs(tmp_pred_rating - tmp_true_rating)\n",
    "    else:\n",
    "        continue\n",
    "\n",
    "average_distance_1 = total_distance / total"
   ]
  },
  {
   "cell_type": "code",
   "execution_count": 52,
   "metadata": {},
   "outputs": [
    {
     "name": "stdout",
     "output_type": "stream",
     "text": [
      "Average distance of the SECOND classfier prediction rating to the true rating:  1.3436133333333333\n"
     ]
    }
   ],
   "source": [
    "print(\"Average distance of the SECOND classfier prediction rating to the true rating: \", average_distance_1)"
   ]
  },
  {
   "cell_type": "markdown",
   "metadata": {},
   "source": [
    "## Here is the average distance of classifier 3 prediction rating to the true rating"
   ]
  },
  {
   "cell_type": "code",
   "execution_count": 53,
   "metadata": {},
   "outputs": [],
   "source": [
    "total = y_test.shape[0]\n",
    "total_distance = 0\n",
    "for i in range(total):\n",
    "    tmp_pred_rating = int(str(pred_2[i])[2])\n",
    "    tmp_true_rating = y_test.iloc[i][0]\n",
    "    if tmp_pred_rating != tmp_true_rating:\n",
    "        total_distance += abs(tmp_pred_rating - tmp_true_rating)\n",
    "    else:\n",
    "        continue\n",
    "\n",
    "average_distance_2 = total_distance / total"
   ]
  },
  {
   "cell_type": "code",
   "execution_count": 54,
   "metadata": {},
   "outputs": [
    {
     "name": "stdout",
     "output_type": "stream",
     "text": [
      "Average distance of the THRID classfier prediction rating to the true rating:  1.33858\n"
     ]
    }
   ],
   "source": [
    "print(\"Average distance of the THRID classfier prediction rating to the true rating: \", average_distance_2)"
   ]
  },
  {
   "cell_type": "markdown",
   "metadata": {},
   "source": [
    "## Here is the average distance of my own ensemble voting prediction rating to the true rating"
   ]
  },
  {
   "cell_type": "code",
   "execution_count": 55,
   "metadata": {},
   "outputs": [],
   "source": [
    "total = y_test.shape[0]\n",
    "total_distance = 0\n",
    "for i in range(total):\n",
    "    tmp_pred_rating = ensemble_pred[i]\n",
    "    tmp_true_rating = y_test.iloc[i][0]\n",
    "    if tmp_pred_rating != tmp_true_rating:\n",
    "        total_distance += abs(tmp_pred_rating - tmp_true_rating)\n",
    "    else:\n",
    "        continue\n",
    "\n",
    "average_distance_ensemble = total_distance / total"
   ]
  },
  {
   "cell_type": "code",
   "execution_count": 56,
   "metadata": {},
   "outputs": [
    {
     "name": "stdout",
     "output_type": "stream",
     "text": [
      "Average distance of my ensemble classfier prediction rating to the true rating:  1.28006\n"
     ]
    }
   ],
   "source": [
    "print(\"Average distance of my ensemble classfier prediction rating to the true rating: \", average_distance_ensemble)"
   ]
  },
  {
   "cell_type": "markdown",
   "metadata": {},
   "source": [
    "## Graph of the Average Distance"
   ]
  },
  {
   "cell_type": "code",
   "execution_count": 57,
   "metadata": {},
   "outputs": [
    {
     "data": {
      "image/png": "[encoded data removed]",
      "text/plain": [
       "<Figure size 432x288 with 1 Axes>"
      ]
     },
     "metadata": {
      "needs_background": "light"
     },
     "output_type": "display_data"
    }
   ],
   "source": [
    "import matplotlib.pyplot as plt\n",
    "x = [1, 2, 3, 4]\n",
    "y = [average_distance_0, average_distance_1, average_distance_2, average_distance_ensemble]\n",
    "labels = [\"NB1\", \"NB2\", \"NB3\", \"My Ensemble\"] \n",
    "plt.bar(x, y, tick_label = labels, width = 0.7, color = [\"blue\"]) \n",
    "plt.xlabel(\"Name of the classfiers\") \n",
    "plt.ylabel(\"Average Distance\") \n",
    "plt.title(\"Average Distance to the True Rating\") \n",
    "plt.ylim(1.25, 1.3)\n",
    "plt.show() "
   ]
  },
  {
   "cell_type": "markdown",
   "metadata": {},
   "source": [
    "## As we can see above, all three Naive Bayes classfiers have very similar average distance to the true rating and my ensemble voting classfier yeild smaller average distance. My point here is, even if the accuracy of my classfier is exactly the same as the sklearn one, we should use my classfier because my average distance to the true rating is smaller by quite a few percent."
   ]
  },
  {
   "cell_type": "markdown",
   "metadata": {},
   "source": [
    "# Contribution - New way of defining accuracy incorporating distance measurement."
   ]
  },
  {
   "cell_type": "markdown",
   "metadata": {},
   "source": [
    "## Up on till now, we understand that the emsemble voting technique yields lesser average distance to the true rating and I would like to factor this idea into my accuracy calcuation because it would reflect a more truthfully the reality that ensemble voting is indeed worth to use on top of existing methods. Hence, I would consider the prediction accurate if it lands within 1 rating distance to the true rating which is completely reasonable. If you think about a comment stated \"this is a great game\", how much less accurate am I if I rate it as 9 instead of the true rating 10? Not much, negligible fair to say. Therefore, I will go on and recaculate my result in such way."
   ]
  },
  {
   "cell_type": "markdown",
   "metadata": {},
   "source": [
    "## Writing an Auxiliary Function for our Calculation "
   ]
  },
  {
   "cell_type": "code",
   "execution_count": 58,
   "metadata": {},
   "outputs": [],
   "source": [
    "def new_accuracy(pred, y_test):\n",
    "    total = pred.shape[0]\n",
    "    count = 0\n",
    "    for i in range(total):\n",
    "        temp_pred = int(str(pred[i])[2])\n",
    "        temp_y = y_test.iloc[i][0]\n",
    "        if temp_pred == temp_y or abs(temp_pred - temp_y) <= 1:\n",
    "            count += 1\n",
    "            \n",
    "    return count / total"
   ]
  },
  {
   "cell_type": "markdown",
   "metadata": {},
   "source": [
    "## New Accuracy for classfier 1"
   ]
  },
  {
   "cell_type": "code",
   "execution_count": 59,
   "metadata": {},
   "outputs": [
    {
     "name": "stdout",
     "output_type": "stream",
     "text": [
      "0.6600066666666666\n"
     ]
    }
   ],
   "source": [
    "new_acc = new_accuracy(pred, y_test)\n",
    "print(new_acc)"
   ]
  },
  {
   "cell_type": "markdown",
   "metadata": {},
   "source": [
    "## New Accuracy for classfier 2"
   ]
  },
  {
   "cell_type": "code",
   "execution_count": 60,
   "metadata": {},
   "outputs": [
    {
     "name": "stdout",
     "output_type": "stream",
     "text": [
      "0.65612\n"
     ]
    }
   ],
   "source": [
    "new_acc_1 = new_accuracy(pred_1, y_test)\n",
    "print(new_acc_1)"
   ]
  },
  {
   "cell_type": "markdown",
   "metadata": {},
   "source": [
    "## New Accuracy for classfier 3"
   ]
  },
  {
   "cell_type": "code",
   "execution_count": 61,
   "metadata": {},
   "outputs": [
    {
     "name": "stdout",
     "output_type": "stream",
     "text": [
      "0.65956\n"
     ]
    }
   ],
   "source": [
    "new_acc_2 = new_accuracy(pred_2, y_test)\n",
    "print(new_acc_2)"
   ]
  },
  {
   "cell_type": "markdown",
   "metadata": {},
   "source": [
    "## New Accuracy for my Ensemble Voting Clissfier"
   ]
  },
  {
   "cell_type": "code",
   "execution_count": 62,
   "metadata": {},
   "outputs": [
    {
     "name": "stdout",
     "output_type": "stream",
     "text": [
      "0.66984\n"
     ]
    }
   ],
   "source": [
    "total = len(ensemble_pred)\n",
    "count = 0\n",
    "\n",
    "for i in range(total):\n",
    "    if ensemble_pred[i] == y_test.iloc[i][0] or abs(ensemble_pred[i] - y_test.iloc[i][0]) <= 1:\n",
    "        count += 1\n",
    "\n",
    "new_accuracy = count / total\n",
    "print(new_accuracy)"
   ]
  },
  {
   "cell_type": "code",
   "execution_count": 63,
   "metadata": {},
   "outputs": [
    {
     "data": {
      "image/png": "[encoded data removed]",
      "text/plain": [
       "<Figure size 432x288 with 1 Axes>"
      ]
     },
     "metadata": {
      "needs_background": "light"
     },
     "output_type": "display_data"
    }
   ],
   "source": [
    "import matplotlib.pyplot as plt\n",
    "x = [1, 2, 3, 4]\n",
    "y = [new_acc, new_acc_1, new_acc_2, new_accuracy]\n",
    "labels = [\"NB1\", \"NB2\", \"NB3\", \"My Ensemble\"] \n",
    "plt.bar(x, y, tick_label = labels, width = 0.7, color = [\"blue\"]) \n",
    "plt.xlabel(\"Name of the classfiers\") \n",
    "plt.ylabel(\"Accuracy\") \n",
    "plt.title(\"Accuracy Chart with Average Distance Considered\")\n",
    "plt.ylim(0.64, 0.70)\n",
    "plt.show() "
   ]
  },
  {
   "cell_type": "markdown",
   "metadata": {},
   "source": [
    "## Now with the consideration of the distance into the measurement, almost every time, the ensemble voting classfier beats the sklearn one by a few percents which I consider my way ensemble implementation and understanding to be reasonable at this point in time."
   ]
  },
  {
   "cell_type": "markdown",
   "metadata": {},
   "source": [
    "# Contribution - Finish up building my Ensemble Classfier\n",
    "## This section is to design my ensemble voting classfier and make sure outside intput is predicted when enter through text box."
   ]
  },
  {
   "cell_type": "code",
   "execution_count": 64,
   "metadata": {},
   "outputs": [],
   "source": [
    "def ensemble_voting_predict(comment):\n",
    "    input_np = np.array([[comment]])\n",
    "    input_df = pd.DataFrame(data=input_np, columns=[\"comment\"])\n",
    "    input_vector_0 = vectorizer.transform(input_df[\"comment\"])\n",
    "    input_vector_1 = vectorizer_1.transform(input_df[\"comment\"])\n",
    "    input_vector_2 = vectorizer_2.transform(input_df[\"comment\"])\n",
    "    pred_0 = Naive_Bayes_Multinomial.predict(input_vector_0)\n",
    "    pred_1 = Naive_Bayes_Multinomial_1.predict(input_vector_1)\n",
    "    pred_2 = Naive_Bayes_Multinomial_2.predict(input_vector_2)\n",
    "    \n",
    "#     print(pred_0, pred_1, pred_2)\n",
    "\n",
    "    rating_0 = int(str(pred_0[0])[2])\n",
    "    if int(str(pred_0[0])[2]) == 1 and str(pred_0[0])[3] == '0':\n",
    "        rating_0 = 10\n",
    "        \n",
    "    rating_1 = int(str(pred_1[0])[2])\n",
    "    if int(str(pred_1[0])[2]) == 1 and str(pred_1[0])[3] == '0':\n",
    "        rating_1 = 10\n",
    "        \n",
    "    rating_2 = int(str(pred_2[0])[2])\n",
    "    if int(str(pred_2[0])[2]) == 1 and str(pred_2[0])[3] == '0':\n",
    "        rating_2 = 10\n",
    "        \n",
    "    final_rating = (rating_0 + rating_1 + rating_2) / 3\n",
    "    \n",
    "    return round(final_rating)"
   ]
  },
  {
   "cell_type": "markdown",
   "metadata": {},
   "source": [
    "# Contribution - Creating my own Ensemble Voting Class with Helpful Member Functions"
   ]
  },
  {
   "cell_type": "markdown",
   "metadata": {},
   "source": [
    "## The following section is my finalized EnsembleVoting class which will take x_train, y_train, x_test, y_test in numpy format, a percentage of the portion of the entire data you want to use and the number of Naive Bayes classfiers as need with which my class will split the data accordingly to do the bagging before training them. This class is really useful because it generalizes my EnsembleVoting method, provides automatically data processing, and also opens the door for serialization which is necessary for Web Application deployment."
   ]
  },
  {
   "cell_type": "code",
   "execution_count": 65,
   "metadata": {},
   "outputs": [],
   "source": [
    "class EnsembleVoting:\n",
    "    # x_train, y_train, x_test, and y_test are all\n",
    "    def __init__(self, x_train, y_train, x_test, y_test, use_percentage=1, num_of_classifier=3):\n",
    "        self.x_train = x_train\n",
    "        self.y_train = y_train\n",
    "        self.x_test = x_test\n",
    "        self.y_test = y_test\n",
    "        self.num_of_classifier = num_of_classifier\n",
    "        self.upper_index = math.ceil(x_train.shape[0] * use_percentage)\n",
    "        self.increment = math.ceil(self.upper_index / num_of_classifier)\n",
    "        self.x_df_container = []\n",
    "        self.y_df_container = []\n",
    "        self.vectorizers = self.instantiate_vectorizers()\n",
    "        self.naive_bayes = self.instantiate_naive_bayes()\n",
    "    \n",
    "    def fit_all_naive_bayes(self):\n",
    "        for i in range(self.num_of_classifier):\n",
    "            train_vector = self.vectorizers[i].fit_transform(self.x_df_container[i][\"comment\"])\n",
    "            target_train_vector = np.asarray(self.y_df_container[i][\"rating\"], dtype=\"|S6\")\n",
    "            self.naive_bayes[i].fit(train_vector, target_train_vector)\n",
    "    \n",
    "    def instantiate_naive_bayes(self):\n",
    "        naive_bayes = []\n",
    "        for i in range(self.num_of_classifier):\n",
    "            t_naive_bayes = NB()\n",
    "            naive_bayes.append(t_naive_bayes)\n",
    "        \n",
    "        return naive_bayes\n",
    "    \n",
    "    def instantiate_vectorizers(self):\n",
    "        vectorizers = []\n",
    "        for i in range(self.num_of_classifier):\n",
    "            t_vectorizer = feature_extraction.text.CountVectorizer()\n",
    "            vectorizers.append(t_vectorizer)\n",
    "        \n",
    "        return vectorizers\n",
    "        \n",
    "    def groom_data(self):\n",
    "        split_indices = [0]\n",
    "        current_index = 0\n",
    "        while(True):\n",
    "            current_index += self.increment\n",
    "            if current_index <= self.upper_index:\n",
    "                split_indices.append(current_index)\n",
    "            else:\n",
    "                split_indices.append(self.upper_index)\n",
    "                break;\n",
    "                \n",
    "        for i in range(len(split_indices)-1):\n",
    "            l = i\n",
    "            r = i + 1\n",
    "            t_x_train, t_y_train = self.x_train[split_indices[l]:split_indices[r], :], self.y_train[split_indices[l]:split_indices[r], :]\n",
    "            t_x_train, t_y_train = pd.DataFrame(data=t_x_train, columns=[\"comment\"]), pd.DataFrame(data=t_y_train, columns=[\"rating\"])\n",
    "            self.x_df_container.append(t_x_train)\n",
    "            self.y_df_container.append(t_y_train)\n",
    "    \n",
    "    def ensemble_voting_predict(self, comment):\n",
    "        input_np = np.array([[comment]])\n",
    "        input_df = pd.DataFrame(data=input_np, columns=[\"comment\"])\n",
    "        ratings = []\n",
    "        \n",
    "        for i in range(self.num_of_classifier):\n",
    "            t_input_vector = self.vectorizers[i].transform(input_df[\"comment\"])\n",
    "            t_pred = self.naive_bayes[i].predict(t_input_vector)\n",
    "            rating = int(str(t_pred[0])[2])\n",
    "            \n",
    "            if int(str(t_pred[0])[2]) == 1 and str(t_pred[0])[3] == '0':\n",
    "                rating = 10\n",
    "            \n",
    "            ratings.append(rating)\n",
    "            \n",
    "        return round(sum(ratings) / len(ratings))\n",
    "        \n",
    "    \n",
    "    # Here is my effort to attempt to convert this into webapp(extra credit), have to clear all data first, and then serialize it and then just use the trained\n",
    "    # classifiers for the app program as there is size requirement from PythonAnyWhere\n",
    "    def clear_data_set(self):\n",
    "        self.x_train, self.y_train, self.x_test, self.y_test = None, None, None, None\n",
    "        self.x_df_container, self.y_df_container = None, None\n",
    "    "
   ]
  },
  {
   "cell_type": "markdown",
   "metadata": {},
   "source": [
    "## Instantiate my class, groom the input data, and fit all the naive bayes classifiers in my ensemblevoting class"
   ]
  },
  {
   "cell_type": "code",
   "execution_count": 66,
   "metadata": {},
   "outputs": [],
   "source": [
    "EV = EnsembleVoting(x_train, y_train, x_test, y_test, use_percentage=1)\n",
    "EV.groom_data()\n",
    "EV.fit_all_naive_bayes()"
   ]
  },
  {
   "cell_type": "markdown",
   "metadata": {},
   "source": [
    "## The following 2 code blocks are for object serialziation which is used for building my web app. The idea is to use the \"pickle\" module to serialize my trained EnsembleVoting class object and then upload it to cloud and retreive it with my Flask application there with which I can predict comment's rating live."
   ]
  },
  {
   "cell_type": "code",
   "execution_count": 67,
   "metadata": {},
   "outputs": [],
   "source": [
    "# This step is not in Kaggle, this is a step in serialization for the webapp after everything is trained.\n",
    "EV.clear_data_set()"
   ]
  },
  {
   "cell_type": "code",
   "execution_count": 68,
   "metadata": {},
   "outputs": [],
   "source": [
    "# This step is not in Kaggle, this is a step in serialization for the webapp after everything is trained.\n",
    "# import pickle\n",
    "# with open('EV.txt', 'wb') as fh:\n",
    "#     pickle.dump(EV, fh)"
   ]
  },
  {
   "cell_type": "code",
   "execution_count": 69,
   "metadata": {},
   "outputs": [],
   "source": [
    "# from sklearn.externals import joblib\n",
    "# if __name__ == \"__main__\":\n",
    "#     joblib.dump(EV, 'EV.pkl')"
   ]
  },
  {
   "cell_type": "markdown",
   "metadata": {},
   "source": [
    "## Predicting my demonstration comments before doing the actual demonstration."
   ]
  },
  {
   "cell_type": "code",
   "execution_count": 70,
   "metadata": {},
   "outputs": [
    {
     "name": "stdout",
     "output_type": "stream",
     "text": [
      "Sample prediction of my EnsembleVoting classfier:  10\n"
     ]
    }
   ],
   "source": [
    "print(\"Sample prediction of my EnsembleVoting classfier: \", EV.ensemble_voting_predict(\"this game is so wonderful, the best game i have ever played.\"))"
   ]
  },
  {
   "cell_type": "markdown",
   "metadata": {},
   "source": [
    "# Contribution - Demonstration Section"
   ]
  },
  {
   "cell_type": "markdown",
   "metadata": {},
   "source": [
    "## Although I have deployed my serilized classfier as a Flask Web Application vis AnywherePython which enable prediction online, I still wrote a small widget interface below in case the reader wants to run this notebook and test the predictions within the notebook. Please see the following."
   ]
  },
  {
   "cell_type": "markdown",
   "metadata": {},
   "source": [
    "## Besides the Web App, the following is a Juypter/Kaggle Notebook widget that we can use to test the predictor."
   ]
  },
  {
   "cell_type": "code",
   "execution_count": 71,
   "metadata": {},
   "outputs": [
    {
     "data": {
      "application/vnd.jupyter.widget-view+json": {
       "model_id": "485ef3b449ed4a86a5f175af9a75f32b",
       "version_major": 2,
       "version_minor": 0
      },
      "text/plain": [
       "Text(value='')"
      ]
     },
     "metadata": {},
     "output_type": "display_data"
    },
    {
     "data": {
      "application/vnd.jupyter.widget-view+json": {
       "model_id": "09f6fc7572854385bfe85a1b3262a28f",
       "version_major": 2,
       "version_minor": 0
      },
      "text/plain": [
       "Text(value='', disabled=True)"
      ]
     },
     "metadata": {},
     "output_type": "display_data"
    },
    {
     "data": {
      "application/vnd.jupyter.widget-view+json": {
       "model_id": "de739f044d344a5e9414b3d32cfdbbf8",
       "version_major": 2,
       "version_minor": 0
      },
      "text/plain": [
       "Button(description='Predict Rating', style=ButtonStyle())"
      ]
     },
     "metadata": {},
     "output_type": "display_data"
    },
    {
     "data": {
      "application/vnd.jupyter.widget-view+json": {
       "model_id": "6a09ea993d2245f2835220fd4561f9e8",
       "version_major": 2,
       "version_minor": 0
      },
      "text/plain": [
       "Button(description='Clear Entry', style=ButtonStyle())"
      ]
     },
     "metadata": {},
     "output_type": "display_data"
    }
   ],
   "source": [
    "input_field = widgets.Text()\n",
    "display(input_field)\n",
    "output_field = widgets.Text(disabled=True)\n",
    "display(output_field)\n",
    "predict_button = widgets.Button(description=\"Predict Rating\")\n",
    "display(predict_button)\n",
    "clear_button = widgets.Button(description=\"Clear Entry\")\n",
    "display(clear_button)\n",
    "\n",
    "\n",
    "\n",
    "def handle_enter(sender):\n",
    "    rating = EV.ensemble_voting_predict(input_field.value)\n",
    "    output_field.value = str(rating)\n",
    "\n",
    "def handle_clear(v):\n",
    "    input_field.value = ''\n",
    "    output_field = ''\n",
    "\n",
    "input_field.on_submit(handle_enter)\n",
    "predict_button.on_click(handle_enter)\n",
    "clear_button.on_click(handle_clear)"
   ]
  },
  {
   "cell_type": "markdown",
   "metadata": {},
   "source": [
    "# Conclusion and Challenges\n",
    "## Truth be told, I have spent weeks of work on this project. From brainstorming ideas on how to do this project, incrementally refining the data, trying out different methods before deciding on implementing ensemble voting mechanism to better the sklearn Naive Bayes classifier to finally writing everything and also making sure I give the extra mile of effort by implementing extra credit portion of the requirement which is Flask Web App deployment with my own class of ensemble voting classifer to make the prediction live. I have learned a tremendous amount of knowledge through this project and I truely feel that I am very comfortable with Kaggle/Jupyter Notebook. Aside from the time consuming aspect of this endeavor, I find deployment portion very hard and I will talk a little about how I overcame the difficulty. First of all, the data set is 1 GB and the upper limit of AnywherePython is only 100MB, therefore, there is no way we can preporcess and cut the size down to that amount. Even if we can, doing the training on each run of the Webapp would be utterly pointless. I then thought about the Python pickle module which I can use to serialize my EnsembleVoting classfier object after training and clearing all the data reference. After that, I spent hours on understanding how Flask works with Python and HTML. Then, I finished my Flask APP writing; however, when I was about to deployed it, there was an extremely subtle difference between serializing using Juypter Notebook and serializing using just Python file which makes the former not work with the deployment. To debug this portion, I spent almost 10 hours to do my research and I finally find that serilization only works if my class is defined in another file, otherwise, \"__main__\" prefix will be attached to my serialized byte code when I process the storage with the \"pickle\". Finally, I am able to overcome all these chanllenge and finish this term project. Thank you!"
   ]
  },
  {
   "cell_type": "markdown",
   "metadata": {},
   "source": [
    "# References\n",
    "\n",
    "1. https://kite.com/python/answers/how-to-drop-empty-rows-from-a-pandas-dataframe-in-python\n",
    "2. http://www.kaiteli.io/Kaite%20Li_1001645704_Practice.html (This is my own work for Kaggle practice)\n",
    "3. https://www.kaggle.com/c/spooky-author-identification/discussion/42289\n",
    "4. https://stackoverflow.com/questions/49153253/pandas-rounding-when-converting-float-to-integer\n",
    "5. https://cmdlinetips.com/2018/02/how-to-subset-pandas-dataframe-based-on-values-of-a-column/\n",
    "6. https://stackoverflow.com/questions/45333530/pandas-drop-columns\n",
    "7. https://towardsdatascience.com/5-minute-guide-to-plotting-with-pandas-e8c0f40a1df4\n",
    "8. https://stackoverflow.com/questions/29576430/shuffle-dataframe-rows\n",
    "9. https://www.geeksforgeeks.org/getting-frequency-counts-of-a-columns-in-pandas-dataframe/\n",
    "10. https://medium.com/@contactsunny/how-to-split-your-dataset-to-train-and-test-datasets-using-scikit-learn-e7cf6eb5e0d\n",
    "11. https://www.geeksforgeeks.org/graph-plotting-in-python-set-1/\n",
    "12. https://intellipaat.com/community/5638/removing-non-english-words-from-text-using-python\n",
    "13. https://blog.dominodatalab.com/interactive-dashboards-in-jupyter/\n",
    "14. https://www.kaggle.com/shahules/basic-eda-cleaning-and-glove#Data-Cleaning\n",
    "15. https://stackoverflow.com/questions/11585793/are-numpy-arrays-passed-by-reference\n",
    "16. https://flask.palletsprojects.com/en/0.12.x/quickstart/#rendering-templates\n",
    "17. https://www.youtube.com/watch?v=IIi6e5oDZ68\n",
    "18. https://www.stefaanlippens.net/python-pickling-and-dealing-with-attributeerror-module-object-has-no-attribute-thing.html\n"
   ]
  }
 ],
 "metadata": {
  "kernelspec": {
   "display_name": "Python 3",
   "language": "python",
   "name": "python3"
  },
  "language_info": {
   "codemirror_mode": {
    "name": "ipython",
    "version": 3
   },
   "file_extension": ".py",
   "mimetype": "text/x-python",
   "name": "python",
   "nbconvert_exporter": "python",
   "pygments_lexer": "ipython3",
   "version": "3.7.6"
  }
 },
 "nbformat": 4,
 "nbformat_minor": 4
}
